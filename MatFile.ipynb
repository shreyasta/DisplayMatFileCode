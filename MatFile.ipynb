{
 "cells": [
  {
   "cell_type": "code",
   "execution_count": 1,
   "metadata": {},
   "outputs": [],
   "source": [
    "import scipy.io as sio\n",
    "mat_contents = sio.loadmat('C:/Users/OSlab-local-admin/Documents/MAT files/FLIRMATData/Rec-ID07-000025_3.mat')\n"
   ]
  },
  {
   "cell_type": "code",
   "execution_count": 2,
   "metadata": {},
   "outputs": [
    {
     "data": {
      "text/plain": [
       "{'Frame': array([[23.8914814 , 23.78483582, 23.9066906 , ..., 24.44986153,\n",
       "         24.31485558, 24.1415863 ],\n",
       "        [23.84581566, 23.89908791, 23.85343361, ..., 24.39742279,\n",
       "         24.21702576, 24.07355499],\n",
       "        [23.86865425, 23.8914814 , 23.91429138, ..., 24.25468445,\n",
       "         24.13403702, 24.0508461 ],\n",
       "        ...,\n",
       "        [23.60892296, 23.5552063 , 23.53984451, ..., 28.66647911,\n",
       "         28.58654785, 28.61987495],\n",
       "        [23.6165905 , 23.60125542, 23.67786217, ..., 28.81256294,\n",
       "         28.71966934, 28.68643379],\n",
       "        [23.5552063 , 23.57823753, 23.53984451, ..., 28.83905983,\n",
       "         28.84568024, 28.79930687]]),\n",
       " 'File_DateTime': array([[2018.   ,    7.   ,   31.   ,   15.   ,   59.   ,   29.   ,\n",
       "          920.634]]),\n",
       " 'File_ObjectParam': array([[  0.92000002,   1.        , 293.1499939 , 293.1499939 ,\n",
       "           0.30000001,   0.97456479,   0.        , 293.1499939 ,\n",
       "           1.        ]])}"
      ]
     },
     "execution_count": 2,
     "metadata": {},
     "output_type": "execute_result"
    }
   ],
   "source": [
    "mat_contents"
   ]
  },
  {
   "cell_type": "code",
   "execution_count": 3,
   "metadata": {},
   "outputs": [],
   "source": [
    "fd= mat_contents['Frame']"
   ]
  },
  {
   "cell_type": "code",
   "execution_count": 4,
   "metadata": {},
   "outputs": [
    {
     "data": {
      "text/plain": [
       "numpy.ndarray"
      ]
     },
     "execution_count": 4,
     "metadata": {},
     "output_type": "execute_result"
    }
   ],
   "source": [
    "type(fd)"
   ]
  },
  {
   "cell_type": "code",
   "execution_count": 5,
   "metadata": {},
   "outputs": [
    {
     "name": "stdout",
     "output_type": "stream",
     "text": [
      "[[23.8914814  23.78483582 23.9066906  ... 24.44986153 24.31485558\n",
      "  24.1415863 ]\n",
      " [23.84581566 23.89908791 23.85343361 ... 24.39742279 24.21702576\n",
      "  24.07355499]\n",
      " [23.86865425 23.8914814  23.91429138 ... 24.25468445 24.13403702\n",
      "  24.0508461 ]\n",
      " ...\n",
      " [23.60892296 23.5552063  23.53984451 ... 28.66647911 28.58654785\n",
      "  28.61987495]\n",
      " [23.6165905  23.60125542 23.67786217 ... 28.81256294 28.71966934\n",
      "  28.68643379]\n",
      " [23.5552063  23.57823753 23.53984451 ... 28.83905983 28.84568024\n",
      "  28.79930687]]\n",
      "(512, 640)\n"
     ]
    }
   ],
   "source": [
    "from scipy.io import loadmat\n",
    "import matplotlib.pyplot as plt\n",
    "import numpy as np\n",
    "import pandas as pd\n",
    "import cv2\n",
    "\n",
    "arr = np.array(fd)\n",
    "print(arr)\n",
    "print(arr.shape)"
   ]
  },
  {
   "cell_type": "code",
   "execution_count": null,
   "metadata": {},
   "outputs": [],
   "source": [
    "#cv2.imshow(\"hello\", arr)\n",
    "#cv2.waitKey(0)\n"
   ]
  },
  {
   "cell_type": "code",
   "execution_count": 6,
   "metadata": {},
   "outputs": [
    {
     "name": "stdout",
     "output_type": "stream",
     "text": [
      "640\n",
      "23.891481399536133\n",
      "24.141586303710938\n",
      "23.784835815429688\n",
      "33.46291732788086\n"
     ]
    }
   ],
   "source": [
    "print(arr[0].size)\n",
    "print(arr[0][0])\n",
    "print(arr[0][639])\n",
    "x = arr[0].flatten()\n",
    "#print(x)\n",
    "print(np.amin(x))\n",
    "print(np.amax(x))"
   ]
  },
  {
   "cell_type": "code",
   "execution_count": 7,
   "metadata": {},
   "outputs": [
    {
     "name": "stdout",
     "output_type": "stream",
     "text": [
      "23.447528839111328\n",
      "35.42744064331055\n",
      "[[0.03705808 0.02815605 0.03832764 ... 0.08366779 0.07239842 0.05793511]\n",
      " [0.03324622 0.03769302 0.03388212 ... 0.07929056 0.06423227 0.05225632]\n",
      " [0.03515263 0.03705808 0.0389621  ... 0.06737576 0.05730494 0.05036074]\n",
      " ...\n",
      " [0.01347206 0.00898817 0.00770587 ... 0.43564179 0.42896969 0.4317516 ]\n",
      " [0.0141121  0.01283203 0.01922663 ... 0.44783586 0.44008175 0.43730747]\n",
      " [0.00898817 0.01091066 0.00770587 ... 0.45004764 0.45060026 0.44672933]]\n"
     ]
    }
   ],
   "source": [
    "norm_image = cv2.normalize(arr, None, alpha =np.amin(arr), beta=np.amax(arr), norm_type=cv2.NORM_MINMAX, dtype=cv2.CV_32F)\n",
    "minval = np.amin(arr)\n",
    "maxval = np.amax(arr)\n",
    "print(np.amin(arr))\n",
    "print(np.amax(arr))\n",
    "norm_image = (arr - minval)/(maxval-minval)\n",
    "print(norm_image)\n"
   ]
  },
  {
   "cell_type": "code",
   "execution_count": 8,
   "metadata": {},
   "outputs": [
    {
     "name": "stdout",
     "output_type": "stream",
     "text": [
      "[[0.03705808 0.02815605 0.03832764 ... 0.08366779 0.07239842 0.05793511]\n",
      " [0.03324622 0.03769302 0.03388212 ... 0.07929056 0.06423227 0.05225632]\n",
      " [0.03515263 0.03705808 0.0389621  ... 0.06737576 0.05730494 0.05036074]\n",
      " ...\n",
      " [0.01347206 0.00898817 0.00770587 ... 0.43564179 0.42896969 0.4317516 ]\n",
      " [0.0141121  0.01283203 0.01922663 ... 0.44783586 0.44008175 0.43730747]\n",
      " [0.00898817 0.01091066 0.00770587 ... 0.45004764 0.45060026 0.44672933]]\n"
     ]
    },
    {
     "data": {
      "text/plain": [
       "13"
      ]
     },
     "execution_count": 8,
     "metadata": {},
     "output_type": "execute_result"
    }
   ],
   "source": [
    "cv2.imshow(\"normed\", norm_image)\n",
    "print(norm_image)\n",
    "cv2.waitKey(0)"
   ]
  },
  {
   "cell_type": "code",
   "execution_count": 9,
   "metadata": {},
   "outputs": [
    {
     "data": {
      "image/png": "[encoded data removed]",
      "text/plain": [
       "<Figure size 432x288 with 1 Axes>"
      ]
     },
     "metadata": {},
     "output_type": "display_data"
    }
   ],
   "source": [
    "import cv2\n",
    "import numpy as np\n",
    "from matplotlib import pyplot as plt\n",
    "\n",
    "plt.hist(norm_image.ravel(),256,[0,1]); plt.show()\n",
    "#hist = cv2.calcHist([norm_image],[0],None,[256],[0,256])"
   ]
  },
  {
   "cell_type": "code",
   "execution_count": 10,
   "metadata": {},
   "outputs": [
    {
     "data": {
      "text/plain": [
       "'C:\\\\Users\\\\OSlab-local-admin\\\\PythonCode'"
      ]
     },
     "execution_count": 10,
     "metadata": {},
     "output_type": "execute_result"
    }
   ],
   "source": [
    "import os\n",
    "os.getcwd()"
   ]
  },
  {
   "cell_type": "code",
   "execution_count": 11,
   "metadata": {},
   "outputs": [],
   "source": [
    "rows,cols = norm_image.shape\n",
    "\n",
    "M = cv2.getRotationMatrix2D( (cols/2, rows/2 ),270,1)\n",
    "\n",
    "dst = cv2.warpAffine(norm_image,M,(cols,rows))"
   ]
  },
  {
   "cell_type": "code",
   "execution_count": 12,
   "metadata": {},
   "outputs": [
    {
     "name": "stdout",
     "output_type": "stream",
     "text": [
      "[[0. 0. 0. ... 0. 0. 0.]\n",
      " [0. 0. 0. ... 0. 0. 0.]\n",
      " [0. 0. 0. ... 0. 0. 0.]\n",
      " ...\n",
      " [0. 0. 0. ... 0. 0. 0.]\n",
      " [0. 0. 0. ... 0. 0. 0.]\n",
      " [0. 0. 0. ... 0. 0. 0.]]\n"
     ]
    },
    {
     "data": {
      "text/plain": [
       "13"
      ]
     },
     "execution_count": 12,
     "metadata": {},
     "output_type": "execute_result"
    }
   ],
   "source": [
    "cv2.imshow(\"img\", dst)\n",
    "print(dst)\n",
    "cv2.waitKey(0)"
   ]
  },
  {
   "cell_type": "code",
   "execution_count": 16,
   "metadata": {},
   "outputs": [
    {
     "name": "stdout",
     "output_type": "stream",
     "text": [
      "<class 'numpy.ndarray'>\n"
     ]
    }
   ],
   "source": [
    "print(type(dst))\n"
   ]
  },
  {
   "cell_type": "code",
   "execution_count": 15,
   "metadata": {},
   "outputs": [
    {
     "name": "stdout",
     "output_type": "stream",
     "text": [
      "[1, 2, 3, 4, 5]\n",
      "<class 'list'>\n"
     ]
    }
   ],
   "source": [
    "d = [int(x) for x in \"1 2 3 4 5\".split()]\n",
    "print(d)\n",
    "print( type(d))"
   ]
  },
  {
   "cell_type": "code",
   "execution_count": null,
   "metadata": {},
   "outputs": [],
   "source": []
  }
 ],
 "metadata": {
  "kernelspec": {
   "display_name": "Python 3",
   "language": "python",
   "name": "python3"
  },
  "language_info": {
   "codemirror_mode": {
    "name": "ipython",
    "version": 3
   },
   "file_extension": ".py",
   "mimetype": "text/x-python",
   "name": "python",
   "nbconvert_exporter": "python",
   "pygments_lexer": "ipython3",
   "version": "3.6.5"
  }
 },
 "nbformat": 4,
 "nbformat_minor": 2
}
